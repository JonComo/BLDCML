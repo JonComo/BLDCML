{
 "cells": [
  {
   "cell_type": "markdown",
   "metadata": {},
   "source": [
    "# Learnin to Control a BLDC Motor with Q-Learning\n",
    "\n",
    "<b>Goal:</b> Learn to drive a BLDC motor smoothly to a target angle.\n",
    "\n",
    "<b>Plan:</b> Use Q-Learning to map the angle of the rotor to stator configurations\n",
    "that lead to highest change in angular velocity.\n",
    "Implementation: Simulation uses torque and simplified coulomb's law formulas\n",
    "to simulate force on the rotor. Q-learning explores random angles of the motor\n",
    "and random actions while using TD-learning to update Q values.\n",
    "\n",
    "<b>Result:</b> Q values can be learned to spin the motor in one direction. By\n",
    "choosing actions with the lowest Q value the motor can be made to spin in the opposite\n",
    "direction. Comparing the motor angle to the desired angle, we can then drive the\n",
    "motor to meet the target. "
   ]
  },
  {
   "cell_type": "code",
   "execution_count": 1,
   "metadata": {
    "collapsed": true
   },
   "outputs": [],
   "source": [
    "import itertools\n",
    "from collections import defaultdict \n",
    "from time import sleep\n",
    "import numpy as np\n",
    "from matplotlib import pyplot as plt\n",
    "import matplotlib.style\n",
    "matplotlib.style.use('ggplot')\n",
    "from IPython.display import clear_output\n",
    "import cv2\n",
    "\n",
    "%matplotlib inline"
   ]
  },
  {
   "cell_type": "code",
   "execution_count": 2,
   "metadata": {
    "collapsed": true
   },
   "outputs": [],
   "source": [
    "class Magnet(object):\n",
    "    def __init__(self, theta_init, radius, charge, name=None):\n",
    "        self.theta_init = theta_init\n",
    "        self.radius = radius\n",
    "        self.charge = charge\n",
    "        self.theta = 0\n",
    "        self.updateP()\n",
    "        self.name = name\n",
    "        \n",
    "    def updateP(self):\n",
    "        self.p = self.pos()\n",
    "    \n",
    "    def pos(self):\n",
    "        return np.array([np.cos(self.theta_init+self.theta) * self.radius,\n",
    "                np.sin(self.theta_init + self.theta) * self.radius])\n",
    "    \n",
    "    def force(self, stator_magnet):\n",
    "        # self is in the rotor\n",
    "        # stator_magnet is magnet in stator\n",
    "        charge = self.charge * stator_magnet.charge\n",
    "        \n",
    "        R = self.p\n",
    "        R = R / np.linalg.norm(R)\n",
    "        \n",
    "        F = stator_magnet.p - self.p\n",
    "        F_norm = np.linalg.norm(F)\n",
    "        F /= F_norm\n",
    "        \n",
    "        force = - 10 * charge * np.cross(R, F) / (F_norm ** 2)\n",
    "        return force\n",
    "    \n",
    "    def render(self, img):\n",
    "        p = self.pos()\n",
    "        height, width, _ = img.shape\n",
    "        intensity = abs(self.charge) * 255\n",
    "        intensity = max(0, min(255, intensity))\n",
    "        intensity = int(intensity)\n",
    "        c = (intensity, 0, 0) if self.charge < 0 else (0, 0, intensity)\n",
    "        img = cv2.circle(img, (int(p[0]+width/2), int(p[1]+height/2)), 22, (255, 255, 255), 2)\n",
    "        img = cv2.circle(img, (int(p[0]+width/2), int(p[1]+height/2)), 20, c, -1)\n",
    "        if self.name:\n",
    "            label = np.zeros((40, 40, 3), dtype=np.uint8)\n",
    "            label = cv2.putText(label, self.name, (5, 35), \n",
    "                              cv2.FONT_HERSHEY_SIMPLEX,  \n",
    "                               1, (255, 255, 255), 2, cv2.LINE_AA)\n",
    "            label = cv2.flip(label, 0)\n",
    "            lp = (int(p[0]+width/2-15), int(p[1]+height/2 - 13))\n",
    "            img[lp[1]:lp[1]+40, lp[0]:lp[0]+40, :] += label\n",
    "        return img\n",
    "\n",
    "class Motor(object):\n",
    "    def __init__(self, stator_radius,\n",
    "                       rotor_radius,\n",
    "                       decay,\n",
    "                       rotor_num,\n",
    "                       stator_num):\n",
    "        self.stator_radius = stator_radius\n",
    "        self.rotor_radius = rotor_radius\n",
    "        self.decay = decay\n",
    "        self.rotor_num = rotor_num\n",
    "        self.stator_num = stator_num\n",
    "        \n",
    "        self.theta = 0\n",
    "        self.vel = 0\n",
    "        self.target_angle = 0\n",
    "        \n",
    "        charge_fn = lambda i: 1 if i%2 == 0 else -1\n",
    "        \n",
    "        stator_names = [\"A\", \"B\", \"C\"]\n",
    "        \n",
    "        self.rotor = [Magnet(i * 2 * np.pi / rotor_num, rotor_radius, -1 * charge_fn(i))\n",
    "                      for i in range(rotor_num)]\n",
    "        self.stator = [Magnet(i * 2 * np.pi / stator_num, stator_radius, charge_fn(i), stator_names[i])\n",
    "                      for i in range(stator_num)]\n",
    "                \n",
    "    def step(self, stator_state, steps, render=False):\n",
    "        theta_init = self.theta\n",
    "        vel_init = self.vel\n",
    "        \n",
    "        for i in range(steps):\n",
    "            \n",
    "            for s, charge in zip(self.stator, stator_state):\n",
    "                s.charge = charge\n",
    "            \n",
    "            for r in self.rotor:\n",
    "                r.theta = self.theta\n",
    "                r.updateP()\n",
    "                for s in self.stator:\n",
    "                    force = r.force(s)\n",
    "                    self.vel += force\n",
    "            self.theta += self.vel\n",
    "            self.vel *= self.decay\n",
    "            \n",
    "            if render: self.render()\n",
    "                    \n",
    "        dtheta = self.theta - theta_init\n",
    "        dvel = self.vel - vel_init\n",
    "        return (dtheta, dvel)\n",
    "    \n",
    "    def render(self, Qrender = None):\n",
    "        width, height = 400, 400\n",
    "        \n",
    "        img = np.zeros((height, width, 3), dtype=np.uint8)\n",
    "        \n",
    "        avg_radius = int((self.rotor_radius + self.stator_radius) / 2)\n",
    "        cv2.circle(img, (200, 200), avg_radius, (255,255,255), 1) #(BGR)\n",
    "        \n",
    "        # draw the angle of the motor\n",
    "        angle_pt = (int(200 + avg_radius * np.cos(self.theta)), \n",
    "                    int(200 + avg_radius * np.sin(self.theta)))\n",
    "        cv2.line(img, (200, 200), \n",
    "                      angle_pt, (255, 255, 255), 2)\n",
    "        \n",
    "        if self.target_angle:\n",
    "            target_pt = (int(200 + avg_radius * np.cos(self.target_angle)), \n",
    "                         int(200 + avg_radius * np.sin(self.target_angle)))\n",
    "            cv2.line(img, (200, 200), \n",
    "                      target_pt, (0, 255, 0), 2)\n",
    "        \n",
    "        for s in self.stator:\n",
    "            img = s.render(img)\n",
    "            \n",
    "        for r in self.rotor:\n",
    "            img = r.render(img)\n",
    "            \n",
    "        # render Q values too.. why not :-)\n",
    "        if Qrender:\n",
    "            l = 10\n",
    "            for i, state in enumerate(Qrender):\n",
    "                Qs = Qrender[state]\n",
    "                for j in range(len(Qs)):\n",
    "                    c = 127 + int(Qs[j] * 1000)\n",
    "                    c = max(min(255, c), 0)\n",
    "                    cv2.rectangle(img, (j * l, i * l), (j * l + l, i * l + l), (c, c, c), -1)\n",
    "            \n",
    "        img = cv2.flip(img, 0)\n",
    "        \n",
    "        cv2.imshow(\"BLDC\", img)\n",
    "        cv2.waitKey(1)\n",
    "        \n",
    "motor = Motor(stator_radius=120,\n",
    "              rotor_radius=60,\n",
    "              decay=0.94,\n",
    "              rotor_num=2,\n",
    "              stator_num=3\n",
    "             )"
   ]
  },
  {
   "cell_type": "markdown",
   "metadata": {},
   "source": [
    "# Explore possible phases for 3 stator magnet\n",
    "\n",
    "<img src=\"BLDC.png\" width=600 align=\"left\">"
   ]
  },
  {
   "cell_type": "code",
   "execution_count": 3,
   "metadata": {},
   "outputs": [],
   "source": [
    "# Stator configurations for A B C, -1 is \"south\", 0 is neutral and 1 is \"north\".\n",
    "states = [[1, 0, -1],\n",
    "          [0, 1, -1],\n",
    "          [-1, 1, 0],\n",
    "          [-1, 0, 1],\n",
    "          [0, -1, 1],\n",
    "          [1, -1, 0]]\n",
    "\n",
    "# The angle the corresponding state above causes the rotor to align to. \n",
    "state_angles = [np.pi * 1 / 6,\n",
    "              np.pi * 3 / 6,\n",
    "              np.pi * 5 / 6,\n",
    "              np.pi * 7 / 6,\n",
    "              np.pi * 9 / 6,\n",
    "              np.pi * 11 / 6]"
   ]
  },
  {
   "cell_type": "code",
   "execution_count": 4,
   "metadata": {
    "collapsed": true
   },
   "outputs": [],
   "source": [
    "# 30 degrees alignment\n",
    "motor.target_angle = state_angles[0]\n",
    "_, _ = motor.step(states[0], 200, True)"
   ]
  },
  {
   "cell_type": "code",
   "execution_count": 5,
   "metadata": {
    "collapsed": true
   },
   "outputs": [],
   "source": [
    "# 90 degrees alignment\n",
    "motor.target_angle = state_angles[1]\n",
    "_, _ = motor.step(states[1], 200, True)"
   ]
  },
  {
   "cell_type": "code",
   "execution_count": 6,
   "metadata": {
    "collapsed": true
   },
   "outputs": [],
   "source": [
    "# 150 degrees alignment\n",
    "motor.target_angle = state_angles[2]\n",
    "_, _ = motor.step(states[2], 200, True)"
   ]
  },
  {
   "cell_type": "code",
   "execution_count": 7,
   "metadata": {
    "collapsed": true
   },
   "outputs": [],
   "source": [
    "# 210 degrees alignment\n",
    "motor.target_angle = state_angles[3]\n",
    "_, _ = motor.step(states[3], 200, True)"
   ]
  },
  {
   "cell_type": "code",
   "execution_count": 8,
   "metadata": {
    "collapsed": true
   },
   "outputs": [],
   "source": [
    "# 270 degrees alignment\n",
    "motor.target_angle = state_angles[4]\n",
    "_, _ = motor.step(states[4], 200, True)"
   ]
  },
  {
   "cell_type": "code",
   "execution_count": 31,
   "metadata": {
    "collapsed": true
   },
   "outputs": [],
   "source": [
    "# 330 degrees alignment\n",
    "motor.target_angle = state_angles[5]\n",
    "_, _ = motor.step(states[5], 200, True)"
   ]
  },
  {
   "cell_type": "code",
   "execution_count": 33,
   "metadata": {},
   "outputs": [],
   "source": [
    "for s, a in zip(states, state_angles):\n",
    "    motor.target_angle = a\n",
    "    motor.step(s, 100, True)"
   ]
  },
  {
   "cell_type": "code",
   "execution_count": 34,
   "metadata": {
    "collapsed": true
   },
   "outputs": [],
   "source": [
    "# We can speed it up to get the motor to spin\n",
    "# and not \"cog\" to each position. \n",
    "\n",
    "for i in range(20):\n",
    "    motor.target_angle = state_angles[i%6]\n",
    "    motor.step(states[i%6], 28, True)"
   ]
  },
  {
   "cell_type": "code",
   "execution_count": 35,
   "metadata": {},
   "outputs": [],
   "source": [
    "# Reverse the order reverses the motor\n",
    "\n",
    "for i in reversed(range(20)):\n",
    "    motor.target_angle = state_angles[i%6]\n",
    "    motor.step(states[i%6], 28, True)"
   ]
  },
  {
   "cell_type": "code",
   "execution_count": 10,
   "metadata": {},
   "outputs": [],
   "source": [
    "# Try to reach an angle by driving forward or backward\n",
    "# This is open loop motor control as we don't use\n",
    "# the rotor position to inform what stator configuration we should use. \n",
    "\n",
    "def minAngle(x, y):\n",
    "    tau = 2*np.pi\n",
    "    a = (x - y) % tau\n",
    "    b = (y - x) % tau\n",
    "    return -a if a < b else b\n",
    "\n",
    "motor.theta = 0\n",
    "motor.target_angle = np.random.random() * 2 * np.pi\n",
    "\n",
    "i = 0\n",
    "for _ in range(20):\n",
    "    if minAngle(motor.theta, motor.target_angle) > 0:\n",
    "        i += 1\n",
    "    else:\n",
    "        i -= 1\n",
    "    \n",
    "    motor.step(states[i%6], 40, True)"
   ]
  },
  {
   "cell_type": "code",
   "execution_count": 15,
   "metadata": {},
   "outputs": [],
   "source": [
    "# We can also try to interpolate between stator configurations\n",
    "# to achieve a midpoint (or ratio) between their resulting angles.\n",
    "# This proves the motor can rotate slowly even with very\n",
    "# few stator magnets. \n",
    "\n",
    "def averageState(state0, state1, ratio):\n",
    "    motor.target_angle = state_angles[state0]\n",
    "    _, _ = motor.step(states[state0], int(10 * (1-ratio)), True)\n",
    "\n",
    "    motor.target_angle = state_angles[state1]\n",
    "    _, _ = motor.step(states[state1], int(10 * ratio), True)\n",
    "        \n",
    "for r in np.linspace(0, 1, 100):\n",
    "    averageState(0, 1, r)"
   ]
  },
  {
   "cell_type": "code",
   "execution_count": 16,
   "metadata": {},
   "outputs": [],
   "source": [
    "# Try to spin slowly, though a bit bumpily. This is due to torque forces\n",
    "# being near zero when the rotor aligns with the stator, as torques\n",
    "# from each stator magnet cancel each other out. \n",
    "\n",
    "r = 0\n",
    "s = 0\n",
    "\n",
    "for _ in range(500):\n",
    "    r += 0.01\n",
    "    if r > 1:\n",
    "        r = 0\n",
    "        s += 1\n",
    "        \n",
    "    averageState(s % 6, (s + 1) % 6, r)"
   ]
  },
  {
   "cell_type": "markdown",
   "metadata": {},
   "source": [
    "# Q Learning Training\n",
    "\n",
    "TD update code: https://www.geeksforgeeks.org/q-learning-in-python/\n",
    "\n",
    "Here we create an environment which consists of our motor simulation. \n",
    "Q-learning then reads the environment state (the motor angle) and then\n",
    "provides an action (stator configuration) back to the env. \n",
    "The env then simulates that action and reports the change in motor velocity.\n",
    "Q-learning can eventually learn how the motor will respond in at any angle\n",
    "to any stator configuration. "
   ]
  },
  {
   "cell_type": "code",
   "execution_count": 17,
   "metadata": {
    "collapsed": true
   },
   "outputs": [],
   "source": [
    "class MotorEnv():\n",
    "    def __init__(self):\n",
    "        self.motor = Motor(stator_radius=120,\n",
    "                  rotor_radius=80,\n",
    "                  decay=0.94,\n",
    "                  rotor_num=2,\n",
    "                  stator_num=3\n",
    "                 )\n",
    "        \n",
    "        # The number of actions = the number of stator configurations\n",
    "        self.actions = len(states)\n",
    "        \n",
    "        self.episode_steps = 100\n",
    "        self.steps = 0\n",
    "        \n",
    "        self.render = False\n",
    "\n",
    "    def states(self):\n",
    "        # The size of the state of the environment, one number (the rotor angle)\n",
    "        return dict(type='float', shape=(1,))\n",
    "    \n",
    "    def getState(self):\n",
    "        t1 = self.motor.theta\n",
    "        # Discretize the motor angle into N buckets as otherwise\n",
    "        # it can take on an infinite number of values and our system\n",
    "        # will never generalize. \n",
    "        N = 20\n",
    "        motor_angle = (np.round(t1 % (2 * np.pi) / (2 * np.pi) * N) / N)\n",
    "        return (motor_angle)\n",
    "\n",
    "    def reset(self):\n",
    "        # Reset the motor for a new training episode\n",
    "        # choose a random angle and also random velocity\n",
    "        # so the motor is robust regardless of its original velocity\n",
    "        # going into the action. \n",
    "        self.steps = 0\n",
    "        self.motor.theta = np.random.random() * 2 * np.pi - np.pi\n",
    "        self.motor.vel = np.random.randn() * .01\n",
    "        return self.getState()\n",
    "\n",
    "    def step(self, action):\n",
    "        # Get the stator configuration given the action\n",
    "        stator_config = states[action]\n",
    "        \n",
    "        # Simulate the motor for one time step\n",
    "        dtheta, dvel = self.motor.step(stator_config, 1, self.render)\n",
    "        \n",
    "        # Record the reward as the change in angular velocity\n",
    "        # scale it cause... it's tiny otherwise? :o) \n",
    "        reward = dvel * 10\n",
    "        \n",
    "        # Check if episode is over\n",
    "        self.steps += 1\n",
    "        terminal = True if self.steps >= self.episode_steps else False\n",
    "        \n",
    "        # Return the new state, reward, and whether the episode should\n",
    "        # terminate. \n",
    "        return self.getState(), reward, terminal\n",
    "\n",
    "def createPolicy(Q, epsilon, num_actions):\n",
    "    \"\"\"\n",
    "    Creates epsilon greedy policy. \n",
    "    \n",
    "    Starts all actions at epsilon/num_actions probability\n",
    "    and adds 1-epsilon to the best action.\n",
    "    Note the probabilities sum to one.\n",
    "    \n",
    "    If epsilon is 0, the best action will have probability 1,\n",
    "    this is no exploration and full exploitation. \n",
    "    \n",
    "    If epsilon is 1, then all actions will be equally likely,\n",
    "    this is full exploration and no exploitation. \n",
    "    \"\"\"\n",
    "    def policy(state): \n",
    "        probs = np.ones(num_actions, dtype = float) * epsilon / num_actions\n",
    "        best_action = np.argmax(Q[state]) \n",
    "        probs[best_action] += (1.0 - epsilon) \n",
    "        return probs\n",
    "    \n",
    "    return policy\n",
    "\n",
    "def qLearning(env, Q, num_episodes, episode_steps, discount_factor=0.9, \n",
    "                            alpha=0.3, epsilon=0.1): \n",
    "    \"\"\" \n",
    "    Q-Learning algorithm: Off-policy TD control. \n",
    "    Finds the optimal greedy policy while improving \n",
    "    following an epsilon-greedy policy.\n",
    "    \n",
    "    discount_factor is how much we discount the value of resulting states\n",
    "    when updating the current state.\n",
    "    \n",
    "    alpha is the learning rate, or how quickly we change Q values.\n",
    "    \n",
    "    epsilon is how much we explore. epsilon = 0 means no exploration. \n",
    "    \"\"\"\n",
    "    \n",
    "    env.render = False\n",
    "    env.episode_steps = episode_steps\n",
    "\n",
    "    rewards = []\n",
    "\n",
    "    policy = createPolicy(Q, epsilon, env.actions)\n",
    "       \n",
    "    for ith_episode in range(num_episodes): \n",
    "        \n",
    "        state = env.reset()\n",
    "        avg_reward = 0\n",
    "        \n",
    "        for t in itertools.count():\n",
    "            action_probs = policy(state)\n",
    "   \n",
    "            action = np.random.choice(np.arange( \n",
    "                      len(action_probs)), \n",
    "                       p = action_probs)\n",
    "   \n",
    "            next_state, reward, done = env.step(action)\n",
    "   \n",
    "            avg_reward += reward\n",
    "               \n",
    "            # TD Update\n",
    "            best_next_action = np.argmax(Q[next_state])\n",
    "            td_target = reward + discount_factor * Q[next_state][best_next_action]\n",
    "            td_delta = td_target - Q[state][action]\n",
    "            Q[state][action] += alpha * td_delta\n",
    "   \n",
    "            # done is True if episode terminated    \n",
    "            if done:\n",
    "                break\n",
    "                   \n",
    "            state = next_state\n",
    "            \n",
    "        avg_reward /= 1 if t == 0 else t\n",
    "        rewards += [avg_reward]\n",
    "        \n",
    "        motor.render(Q)\n",
    "        \n",
    "        # print Q values\n",
    "        if ith_episode % 50 == 0:\n",
    "            clear_output(wait=True)\n",
    "            #print(\"episode: \", ith_episode)\n",
    "            #for state in Q:\n",
    "            #    fig = plt.plot(Q[state])\n",
    "                \n",
    "            plt.plot(rewards)\n",
    "            plt.show()\n",
    "       \n",
    "    return Q, rewards\n",
    "\n",
    "\n",
    "env = MotorEnv()\n",
    "Q = defaultdict(lambda: np.zeros(env.actions))"
   ]
  },
  {
   "cell_type": "code",
   "execution_count": 19,
   "metadata": {},
   "outputs": [
    {
     "data": {
      "image/png": "[encoded data removed]",
      "text/plain": [
       "<Figure size 432x288 with 1 Axes>"
      ]
     },
     "metadata": {},
     "output_type": "display_data"
    }
   ],
   "source": [
    "# Train\n",
    "Q, rewards = qLearning(env, Q, 200, 100, discount_factor=0.9, alpha=0.05, epsilon=0.2)"
   ]
  },
  {
   "cell_type": "code",
   "execution_count": 20,
   "metadata": {},
   "outputs": [
    {
     "data": {
      "image/png": "[encoded data removed]",
      "text/plain": [
       "<Figure size 432x288 with 1 Axes>"
      ]
     },
     "metadata": {},
     "output_type": "display_data"
    }
   ],
   "source": [
    "for state in Q:\n",
    "    clear_output(wait=True)\n",
    "    plt.plot([0, 5], [0, 0])\n",
    "    plt.plot([0, 5], [-.2, -.2])\n",
    "    plt.plot([0, 5], [.2, .2])\n",
    "    fig = plt.plot(Q[state])\n",
    "    plt.show()"
   ]
  },
  {
   "cell_type": "code",
   "execution_count": 27,
   "metadata": {},
   "outputs": [
    {
     "data": {
      "text/plain": [
       "[<matplotlib.lines.Line2D at 0x125d612e8>]"
      ]
     },
     "execution_count": 27,
     "metadata": {},
     "output_type": "execute_result"
    },
    {
     "data": {
      "image/png": "[encoded data removed]",
      "text/plain": [
       "<Figure size 432x288 with 1 Axes>"
      ]
     },
     "metadata": {},
     "output_type": "display_data"
    }
   ],
   "source": [
    "# Evaluate the best policy\n",
    "\n",
    "def evaluate(env, Q, num_episodes, episode_steps): \n",
    "    \n",
    "    env.render = True\n",
    "    env.episode_steps = episode_steps\n",
    "    env.motor.decay = 0.95\n",
    "    \n",
    "    rewards = []\n",
    "    \n",
    "    for ith_episode in range(num_episodes):\n",
    "        \n",
    "        state = env.reset()\n",
    "        env.motor.target_angle = np.random.random() * 2 * np.pi\n",
    "        \n",
    "        for t in itertools.count():\n",
    "            env.motor.target_angle += 0.03\n",
    "            \n",
    "            if np.sign(minAngle(env.motor.theta, env.motor.target_angle)) == 1:\n",
    "                action = np.argmax(Q[state])\n",
    "            else:\n",
    "                action = np.argmin(Q[state])\n",
    "   \n",
    "            next_state, reward, done = env.step(action) \n",
    "            rewards += [reward]\n",
    "            \n",
    "            if done:\n",
    "                break\n",
    "                   \n",
    "            state = next_state\n",
    "       \n",
    "    return rewards\n",
    "\n",
    "rewards = evaluate(env, Q, 1, 2000)\n",
    "plt.plot(rewards)"
   ]
  },
  {
   "cell_type": "code",
   "execution_count": 53,
   "metadata": {},
   "outputs": [
    {
     "data": {
      "text/plain": [
       "[<matplotlib.lines.Line2D at 0x12a1e5dd8>]"
      ]
     },
     "execution_count": 53,
     "metadata": {},
     "output_type": "execute_result"
    },
    {
     "data": {
      "image/png": "[encoded data removed]",
      "text/plain": [
       "<Figure size 432x288 with 1 Axes>"
      ]
     },
     "metadata": {},
     "output_type": "display_data"
    }
   ],
   "source": [
    "ts = []\n",
    "T = np.linspace(0, 2 * np.pi, 1000)[:-1]\n",
    "N = 4\n",
    "for t in T:\n",
    "    ts += [np.round(t % (2 * np.pi) / (2 * np.pi) * N) / N]\n",
    "    \n",
    "plt.plot(T, ts)"
   ]
  },
  {
   "cell_type": "markdown",
   "metadata": {},
   "source": [
    "# Failed Training Attempts:"
   ]
  },
  {
   "cell_type": "markdown",
   "metadata": {},
   "source": [
    "# Evolution Strategies Training"
   ]
  },
  {
   "cell_type": "code",
   "execution_count": null,
   "metadata": {
    "collapsed": true
   },
   "outputs": [],
   "source": [
    "def state(motor):\n",
    "    return motor.theta % (2 * np.pi)\n",
    "\n",
    "def stator_state(W, motor):\n",
    "    t = state(motor)\n",
    "    stators = motor.stator_num\n",
    "    stator_state = np.zeros((stators))\n",
    "    frac = 1 / stators\n",
    "    for i, r in enumerate(W):\n",
    "        stator_state[i] = frac * np.sin(t*r[0] + r[1])\n",
    "    return stator_state\n",
    "\n",
    "def plot_stator_state(W):\n",
    "    for stator in range(W.shape[0]):\n",
    "        pts = []\n",
    "        for t in np.linspace(0, 2 * np.pi, 50)[:-1]:\n",
    "            motor.theta = t\n",
    "            pts += [[t, stator_state(W, motor)[stator]]]\n",
    "\n",
    "        pts = np.array(pts)\n",
    "        fig = plt.plot(pts[:,0], pts[:,1])"
   ]
  },
  {
   "cell_type": "code",
   "execution_count": null,
   "metadata": {
    "collapsed": true
   },
   "outputs": [],
   "source": [
    "motor = Motor(stator_radius=120,\n",
    "              rotor_radius=80,\n",
    "              decay=0.995,\n",
    "              rotor_num=2,\n",
    "              stator_num=3\n",
    "             )\n",
    "\n",
    "W = np.random.randn(motor.stator_num, 2) # stators x 2 params each\n",
    "\n",
    "plot_stator_state(W)"
   ]
  },
  {
   "cell_type": "code",
   "execution_count": null,
   "metadata": {
    "collapsed": true
   },
   "outputs": [],
   "source": [
    "avg_dvels = []\n",
    "\n",
    "# train\n",
    "for i in range(1000):\n",
    "    if i % 100 == 0:\n",
    "        clear_output(wait=True)\n",
    "        print(i)\n",
    "        #plt.plot(avg_dvels)\n",
    "        plot_stator_state(W)\n",
    "        plt.show()\n",
    "    \n",
    "    theta_init = np.random.random() * 2 * np.pi\n",
    "    vel_init = np.random.randn() * .01\n",
    "    \n",
    "    motor.theta = theta_init\n",
    "    motor.vel = vel_init\n",
    "    _, _, _, dvel_init = motor.step(stator_state(W, motor), 1, False)\n",
    "    \n",
    "    avg_dvels += [dvel_init]\n",
    "    \n",
    "    W_update = np.zeros_like(W)\n",
    "    \n",
    "    for j in range(50):\n",
    "        Wd = np.random.randn(W.shape[0], W.shape[1])\n",
    "        bd = np.random.randn(b.shape[0])\n",
    "        motor.theta = theta_init\n",
    "        motor.vel = vel_init\n",
    "        _, _, dtheta, dvel = motor.step(stator_state(W+Wd,\n",
    "                                                     motor), 1, False)\n",
    "        \n",
    "        W_update += Wd * (dvel - dvel_init)\n",
    "    \n",
    "    W += 1 * W_update"
   ]
  },
  {
   "cell_type": "code",
   "execution_count": null,
   "metadata": {
    "collapsed": true
   },
   "outputs": [],
   "source": [
    "# evaluate\n",
    "for k in range(1):\n",
    "    theta_init = np.random.random() * 2 * np.pi\n",
    "    vel_init = 0\n",
    "    motor.theta = theta_init\n",
    "    motor.vel = vel_init\n",
    "\n",
    "    for i in range(1000):\n",
    "        _, _, _, dvel_init = motor.step(stator_state(w, motor), 1, True)"
   ]
  },
  {
   "cell_type": "markdown",
   "metadata": {},
   "source": [
    "# Pick the best weights Training"
   ]
  },
  {
   "cell_type": "code",
   "execution_count": null,
   "metadata": {
    "collapsed": true
   },
   "outputs": [],
   "source": [
    "best_dvel = 0\n",
    "best_W = np.random.randn(motor.stator_num, 2)\n",
    "dvels = []"
   ]
  },
  {
   "cell_type": "code",
   "execution_count": null,
   "metadata": {
    "collapsed": true
   },
   "outputs": [],
   "source": [
    "for i in range(1000):\n",
    "    W = 2 * np.random.randn(best_W.shape[0], best_W.shape[1])\n",
    "    \n",
    "    avg_dvel = 0\n",
    "    \n",
    "    for j in range(10):\n",
    "        motor.theta = np.random.random() * 2 * np.pi\n",
    "        motor.vel = 0 #np.random.randn() * .1\n",
    "        _, _, _, dvel = motor.step(stator_state(W, motor), 10, False)\n",
    "        avg_dvel += dvel\n",
    "    \n",
    "    if avg_dvel > best_dvel:\n",
    "        print(\"new best: \", avg_dvel)\n",
    "        best_dvel = avg_dvel\n",
    "        best_W = W\n",
    "        dvels += [avg_dvel]\n",
    "        \n",
    "        clear_output(wait=True)\n",
    "        #print(i)\n",
    "        plot_stator_state(W)\n",
    "        plt.show()"
   ]
  },
  {
   "cell_type": "code",
   "execution_count": null,
   "metadata": {
    "collapsed": true
   },
   "outputs": [],
   "source": [
    "# evaluate\n",
    "for k in range(1):\n",
    "    theta_init = np.random.random() * 2 * np.pi\n",
    "    vel_init = 0\n",
    "    motor.theta = theta_init\n",
    "    motor.vel = vel_init\n",
    "\n",
    "    for i in range(10000):\n",
    "        _, _, _, dvel_init = motor.step(stator_state(best_W, motor), 1, True)"
   ]
  },
  {
   "cell_type": "markdown",
   "metadata": {},
   "source": [
    "# Training\n",
    "\n",
    "source: https://tensorforce.readthedocs.io/en/latest/basics/getting-started.html"
   ]
  },
  {
   "cell_type": "code",
   "execution_count": null,
   "metadata": {
    "collapsed": true
   },
   "outputs": [],
   "source": [
    "from tensorforce.environments import Environment\n",
    "from tensorforce.agents import Agent\n",
    "from tensorforce.execution import Runner\n",
    "from IPython.display import clear_output"
   ]
  },
  {
   "cell_type": "code",
   "execution_count": null,
   "metadata": {
    "collapsed": true
   },
   "outputs": [],
   "source": [
    "class MotorEnv(Environment):\n",
    "    def __init__(self):\n",
    "        super().__init__()\n",
    "        self.motor = Motor(stator_radius=120,\n",
    "                  rotor_radius=80,\n",
    "                  decay=0.995,\n",
    "                  rotor_num=2,\n",
    "                  stator_num=3\n",
    "                 )\n",
    "        self.num_actions = 6\n",
    "        self.render = False\n",
    "        self.episode_steps = 100\n",
    "\n",
    "    def states(self):\n",
    "        return dict(type='float', shape=(1,))\n",
    "\n",
    "    def actions(self):\n",
    "        return dict(type='int', num_values=6)\n",
    "    \n",
    "    # Optional\n",
    "    def close(self):\n",
    "        super().close()\n",
    "\n",
    "    def reset(self):\n",
    "        self.motor.theta = np.random.random() * 2 * np.pi - np.pi\n",
    "        self.motor.vel = np.random.randn() * .05\n",
    "        self.motor.steps = 0\n",
    "        return np.array([self.motor.theta % 2*np.pi])\n",
    "\n",
    "    def execute(self, actions):\n",
    "        stator_num = self.motor.stator_num\n",
    "        \n",
    "        motor_states = states[actions]\n",
    "        thetas, vels, dtheta, dvel = self.motor.step(motor_states, 10, self.render)\n",
    "        next_state = np.array([self.motor.theta % 2*np.pi])\n",
    "        \n",
    "        self.motor.steps += 1\n",
    "        terminal = True if self.motor.steps >= self.episode_steps else False\n",
    "        reward = dvel * 10 #-np.abs(self.motor.theta)\n",
    "        return next_state, terminal, reward\n",
    "    \n",
    "env = MotorEnv()\n",
    "\n",
    "#agent = Agent.create(\n",
    "#    agent='ppo', environment=env, batch_size=10, learning_rate=1e-3, max_episode_timesteps=1\n",
    "#)\n",
    "\n",
    "agent = Agent.create(\n",
    "    agent='tensorforce', environment=env, update=64,\n",
    "    objective='policy_gradient', reward_estimation=dict(horizon=20),\n",
    "    max_episode_timesteps=100, exploration=.2\n",
    ")\n",
    "\n",
    "runner = Runner(\n",
    "    agent=agent,\n",
    "    environment=env\n",
    ")\n",
    "\n",
    "clear_output(wait=True)\n",
    "env.episode_steps = 5\n",
    "runner.run(num_episodes=100)"
   ]
  },
  {
   "cell_type": "code",
   "execution_count": null,
   "metadata": {
    "collapsed": true
   },
   "outputs": [],
   "source": [
    "env.render = True\n",
    "env.episode_steps = 10\n",
    "runner.run(num_episodes=10, evaluation=True)"
   ]
  },
  {
   "cell_type": "code",
   "execution_count": null,
   "metadata": {
    "collapsed": true
   },
   "outputs": [],
   "source": [
    "runner.close()"
   ]
  },
  {
   "cell_type": "code",
   "execution_count": null,
   "metadata": {
    "collapsed": true
   },
   "outputs": [],
   "source": [
    "t = np.linspace(-2*np.pi, 4 * np.pi, 200)\n",
    "t = t % (2*np.pi)\n",
    "t2 = [np.digitize(h, np.linspace(0, 2*np.pi, 10)) for h in t]\n",
    "t2 /= np.max(t2)\n",
    "t2 *= 2*np.pi\n",
    "fig = plt.plot(t)\n",
    "fig = plt.plot(t2)"
   ]
  },
  {
   "cell_type": "code",
   "execution_count": null,
   "metadata": {
    "collapsed": true
   },
   "outputs": [],
   "source": []
  }
 ],
 "metadata": {
  "kernelspec": {
   "display_name": "Python 3",
   "language": "python",
   "name": "python3"
  },
  "language_info": {
   "codemirror_mode": {
    "name": "ipython",
    "version": 3
   },
   "file_extension": ".py",
   "mimetype": "text/x-python",
   "name": "python",
   "nbconvert_exporter": "python",
   "pygments_lexer": "ipython3",
   "version": "3.6.1"
  }
 },
 "nbformat": 4,
 "nbformat_minor": 2
}
