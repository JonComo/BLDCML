{
 "cells": [
  {
   "cell_type": "code",
   "execution_count": 1,
   "metadata": {
    "collapsed": true
   },
   "outputs": [],
   "source": [
    "import numpy as np\n",
    "from matplotlib import pyplot as plt\n",
    "import cv2\n",
    "%matplotlib inline"
   ]
  },
  {
   "cell_type": "code",
   "execution_count": 2,
   "metadata": {},
   "outputs": [],
   "source": [
    "stator_radius = 120\n",
    "rotor_radius = 80\n",
    "decay = 0.995\n",
    "rotor_magnets = 3\n",
    "stator_magnets = 3\n",
    "\n",
    "class Magnet(object):\n",
    "    def __init__(self, theta_init, radius, charge):\n",
    "        self.theta_init = theta_init\n",
    "        self.radius = radius\n",
    "        self.charge = charge\n",
    "        self.theta = 0\n",
    "        self.updateP()\n",
    "        \n",
    "    def updateP(self):\n",
    "        self.p = self.pos()\n",
    "    \n",
    "    def pos(self):\n",
    "        return np.array([np.cos(self.theta_init+self.theta) * self.radius,\n",
    "                np.sin(self.theta_init + self.theta) * self.radius])\n",
    "    \n",
    "    def force(self, stator_magnet):\n",
    "        # self is in the rotor\n",
    "        # stator_magnet is magnet in stator\n",
    "        charge = self.charge * stator_magnet.charge\n",
    "        \n",
    "        R = self.p\n",
    "        R = R / np.linalg.norm(R)\n",
    "        \n",
    "        F = stator_magnet.p - self.p\n",
    "        F_norm = np.linalg.norm(F)\n",
    "        F /= F_norm\n",
    "        \n",
    "        force = - charge * np.cross(R, F) / (F_norm ** 2)\n",
    "        return force\n",
    "    \n",
    "    def render(self, img):\n",
    "        p = self.pos()\n",
    "        height, width, _ = img.shape\n",
    "        c = (255, 0, 0) if self.charge < 0 else (0, 0, 255)\n",
    "        return cv2.circle(img, (int(p[0]+width/2), int(p[1]+height/2)), 20, c, -1)\n",
    "\n",
    "class Motor(object):\n",
    "    def __init__(self, stator_radius,\n",
    "                       rotor_radius,\n",
    "                       decay,\n",
    "                       rotor_num,\n",
    "                       stator_num):\n",
    "        self.stator_radius = stator_radius\n",
    "        self.rotor_radius = rotor_radius\n",
    "        self.decay = decay\n",
    "        self.rotor_num = rotor_num\n",
    "        self.stator_num = stator_num\n",
    "        \n",
    "        self.theta = 0\n",
    "        self.vel = 0\n",
    "        \n",
    "        charge_fn = lambda i: 1 if i%2 == 0 else -1\n",
    "        \n",
    "        self.rotor = [Magnet(i * 2 * np.pi / rotor_num, rotor_radius, charge_fn(i))\n",
    "                      for i in range(rotor_num)]\n",
    "        self.stator = [Magnet(i * 2 * np.pi / stator_num, stator_radius, charge_fn(i))\n",
    "                      for i in range(stator_num)]\n",
    "        \n",
    "    def step(self, stator_state, steps, render=False):\n",
    "        theta_init = self.theta\n",
    "        vel_init = self.vel\n",
    "        \n",
    "        thetas = [self.theta]\n",
    "        vels = [self.vel]\n",
    "        \n",
    "        for i in range(steps):\n",
    "            \n",
    "            for s, charge in zip(self.stator, stator_state):\n",
    "                s.charge = charge\n",
    "            \n",
    "            for r in self.rotor:\n",
    "                r.theta = self.theta\n",
    "                r.updateP()\n",
    "                for s in self.stator:\n",
    "                    force = r.force(s)\n",
    "                    self.vel += force\n",
    "            self.theta += self.vel\n",
    "            thetas += [self.theta]\n",
    "            vels += [self.vel]\n",
    "            self.vel *= self.decay\n",
    "            \n",
    "            if render: self.render()\n",
    "                    \n",
    "        dtheta = self.theta - theta_init\n",
    "        dvel = self.vel - vel_init\n",
    "        return (thetas, vels, dtheta, dvel)\n",
    "    \n",
    "    def render(self):\n",
    "        width, height = 400, 400\n",
    "        \n",
    "        img = np.zeros((height, width, 3), dtype=np.uint8)\n",
    "        \n",
    "        avg_radius = int((self.rotor_radius + self.stator_radius) / 2)\n",
    "        cv2.circle(img, (200, 200), avg_radius, (255,255,255), 1) #(BGR)\n",
    "        \n",
    "        for s in self.stator:\n",
    "            img = s.render(img)\n",
    "            \n",
    "        for r in self.rotor:\n",
    "            img = r.render(img)\n",
    "        \n",
    "        cv2.imshow(\"BLDC\", img)\n",
    "        cv2.waitKey(1)\n",
    "        \n",
    "motor = Motor(stator_radius=120,\n",
    "              rotor_radius=80,\n",
    "              decay=0.995,\n",
    "              rotor_num=1,\n",
    "              stator_num=6\n",
    "             )"
   ]
  },
  {
   "cell_type": "code",
   "execution_count": 3,
   "metadata": {},
   "outputs": [
    {
     "data": {
      "image/png": "[encoded data removed]",
      "text/plain": [
       "<Figure size 432x288 with 1 Axes>"
      ]
     },
     "metadata": {},
     "output_type": "display_data"
    },
    {
     "name": "stdout",
     "output_type": "stream",
     "text": [
      "0.014415497979455268\n"
     ]
    }
   ],
   "source": [
    "motor.theta = 0.01\n",
    "motor.vel = 0\n",
    "\n",
    "thetas, vels, dtheta, dvel = motor.step([1, -1, -1, -1, -1, -1], 100, True)\n",
    "fig = plt.plot(thetas)\n",
    "fig = plt.plot(vels)\n",
    "plt.show()\n",
    "\n",
    "print(dvel)"
   ]
  },
  {
   "cell_type": "markdown",
   "metadata": {},
   "source": [
    "# Training\n",
    "\n",
    "source: https://tensorforce.readthedocs.io/en/latest/basics/getting-started.html"
   ]
  },
  {
   "cell_type": "code",
   "execution_count": 4,
   "metadata": {
    "collapsed": true
   },
   "outputs": [],
   "source": [
    "from tensorforce.environments import Environment\n",
    "from tensorforce.agents import Agent\n",
    "from tensorforce.execution import Runner\n",
    "from IPython.display import clear_output"
   ]
  },
  {
   "cell_type": "code",
   "execution_count": 11,
   "metadata": {},
   "outputs": [
    {
     "name": "stderr",
     "output_type": "stream",
     "text": [
      "Episodes: 100%|██████████| 10000/10000 [05:50, reward=-0.51, ts/ep=5, sec/ep=0.03, ms/ts=6.4, agent=44.0%]"
     ]
    }
   ],
   "source": [
    "class MotorEnv(Environment):\n",
    "    def __init__(self):\n",
    "        super().__init__()\n",
    "        self.motor = Motor(stator_radius=120,\n",
    "                  rotor_radius=80,\n",
    "                  decay=0.995,\n",
    "                  rotor_num=2,\n",
    "                  stator_num=3\n",
    "                 )\n",
    "        self.num_actions = 2**(self.motor.stator_num)\n",
    "        self.render = False\n",
    "        self.episode_steps = 100\n",
    "\n",
    "    def states(self):\n",
    "        return dict(type='float', shape=(2,))\n",
    "\n",
    "    def actions(self):\n",
    "        return dict(type='int', num_values=self.num_actions)\n",
    "    \n",
    "    # Optional\n",
    "    def close(self):\n",
    "        super().close()\n",
    "\n",
    "    def reset(self):\n",
    "        self.motor.theta = np.random.random() * 2 * np.pi - np.pi\n",
    "        self.motor.vel = np.random.randn() * .05\n",
    "        self.motor.steps = 0\n",
    "        return np.array([self.motor.theta % 2*np.pi, self.motor.vel])\n",
    "\n",
    "    def execute(self, actions):\n",
    "        stator_num = self.motor.stator_num\n",
    "        motor_states = bin(actions)[2:].zfill(stator_num)\n",
    "        motor_states = [-1 if s == '0' else 1 for s in motor_states]\n",
    "        thetas, vels, dtheta, dvel = self.motor.step(motor_states, 10, self.render)\n",
    "        next_state = np.array([self.motor.theta % 2*np.pi, self.motor.vel])\n",
    "        terminal = False\n",
    "        self.motor.steps += 1\n",
    "        if self.motor.steps >= self.episode_steps:\n",
    "            terminal = True\n",
    "        reward = dvel * 100 #-np.abs(self.motor.theta)\n",
    "        return next_state, terminal, reward\n",
    "    \n",
    "env = MotorEnv()\n",
    "\n",
    "#agent = Agent.create(\n",
    "#    agent='ppo', environment=env, batch_size=10, learning_rate=1e-3, max_episode_timesteps=1\n",
    "#)\n",
    "\n",
    "agent = Agent.create(\n",
    "    agent='tensorforce', environment=env, update=64,\n",
    "    objective='policy_gradient', reward_estimation=dict(horizon=20),\n",
    "    max_episode_timesteps=100, exploration=.2\n",
    ")\n",
    "\n",
    "runner = Runner(\n",
    "    agent=agent,\n",
    "    environment=env\n",
    ")\n",
    "\n",
    "clear_output(wait=True)\n",
    "env.episode_steps = 5\n",
    "runner.run(num_episodes=10000)"
   ]
  },
  {
   "cell_type": "code",
   "execution_count": 9,
   "metadata": {},
   "outputs": [
    {
     "name": "stderr",
     "output_type": "stream",
     "text": [
      "Episodes: 100%|██████████| 10/10 [00:06, reward=-1.31, ts/ep=10, sec/ep=0.30, ms/ts=29.8, agent=4.4%]\n",
      "Episodes: 100%|██████████| 30/30 [00:09, reward=1.61, ts/ep=10, sec/ep=0.32, ms/ts=32.5, agent=4.7%] "
     ]
    }
   ],
   "source": [
    "env.render = True\n",
    "env.episode_steps = 100\n",
    "runner.run(num_episodes=10, evaluation=True)"
   ]
  },
  {
   "cell_type": "code",
   "execution_count": 10,
   "metadata": {},
   "outputs": [
    {
     "name": "stderr",
     "output_type": "stream",
     "text": [
      "Episodes: 100%|██████████| 30/30 [00:29, reward=1.61, ts/ep=10, sec/ep=0.32, ms/ts=32.5, agent=4.7%]\n"
     ]
    }
   ],
   "source": [
    "runner.close()"
   ]
  },
  {
   "cell_type": "code",
   "execution_count": 8,
   "metadata": {},
   "outputs": [
    {
     "data": {
      "image/png": "[encoded data removed]",
      "text/plain": [
       "<Figure size 432x288 with 1 Axes>"
      ]
     },
     "metadata": {},
     "output_type": "display_data"
    }
   ],
   "source": [
    "t = np.linspace(-2*np.pi, 4 * np.pi, 200)\n",
    "t = t % (2*np.pi)\n",
    "t2 = [np.digitize(h, np.linspace(0, 2*np.pi, 10)) for h in t]\n",
    "t2 /= np.max(t2)\n",
    "t2 *= 2*np.pi\n",
    "fig = plt.plot(t)\n",
    "fig = plt.plot(t2)"
   ]
  },
  {
   "cell_type": "code",
   "execution_count": null,
   "metadata": {
    "collapsed": true
   },
   "outputs": [],
   "source": []
  }
 ],
 "metadata": {
  "kernelspec": {
   "display_name": "Python 3",
   "language": "python",
   "name": "python3"
  },
  "language_info": {
   "codemirror_mode": {
    "name": "ipython",
    "version": 3
   },
   "file_extension": ".py",
   "mimetype": "text/x-python",
   "name": "python",
   "nbconvert_exporter": "python",
   "pygments_lexer": "ipython3",
   "version": "3.6.1"
  }
 },
 "nbformat": 4,
 "nbformat_minor": 2
}
