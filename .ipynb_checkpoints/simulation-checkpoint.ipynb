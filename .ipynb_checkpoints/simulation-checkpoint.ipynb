{
 "cells": [
  {
   "cell_type": "code",
   "execution_count": 178,
   "metadata": {
    "collapsed": true
   },
   "outputs": [],
   "source": [
    "import numpy as np\n",
    "from matplotlib import pyplot as plt\n",
    "import cv2\n",
    "%matplotlib inline"
   ]
  },
  {
   "cell_type": "code",
   "execution_count": 179,
   "metadata": {
    "collapsed": true
   },
   "outputs": [],
   "source": [
    "class Magnet(object):\n",
    "    def __init__(self, theta_init, radius, charge):\n",
    "        self.theta_init = theta_init\n",
    "        self.radius = radius\n",
    "        self.charge = charge\n",
    "        self.theta = 0\n",
    "        self.updateP()\n",
    "        \n",
    "    def updateP(self):\n",
    "        self.p = self.pos()\n",
    "    \n",
    "    def pos(self):\n",
    "        return np.array([np.cos(self.theta_init+self.theta) * self.radius,\n",
    "                np.sin(self.theta_init + self.theta) * self.radius])\n",
    "    \n",
    "    def force(self, stator_magnet):\n",
    "        # self is in the rotor\n",
    "        # stator_magnet is magnet in stator\n",
    "        charge = self.charge * stator_magnet.charge\n",
    "        \n",
    "        R = self.p\n",
    "        R = R / np.linalg.norm(R)\n",
    "        \n",
    "        F = stator_magnet.p - self.p\n",
    "        F_norm = np.linalg.norm(F)\n",
    "        F /= F_norm\n",
    "        \n",
    "        force = - 5 * charge * np.cross(R, F) / (F_norm ** 2)\n",
    "        return force\n",
    "    \n",
    "    def render(self, img):\n",
    "        p = self.pos()\n",
    "        height, width, _ = img.shape\n",
    "        intensity = abs(self.charge) * 255\n",
    "        intensity = max(0, min(255, intensity))\n",
    "        intensity = int(intensity)\n",
    "        c = (intensity, 0, 0) if self.charge < 0 else (0, 0, intensity)\n",
    "        img = cv2.circle(img, (int(p[0]+width/2), int(p[1]+height/2)), 22, (255, 255, 255), 2)\n",
    "        return cv2.circle(img, (int(p[0]+width/2), int(p[1]+height/2)), 20, c, -1)\n",
    "\n",
    "class Motor(object):\n",
    "    def __init__(self, stator_radius,\n",
    "                       rotor_radius,\n",
    "                       decay,\n",
    "                       rotor_num,\n",
    "                       stator_num):\n",
    "        self.stator_radius = stator_radius\n",
    "        self.rotor_radius = rotor_radius\n",
    "        self.decay = decay\n",
    "        self.rotor_num = rotor_num\n",
    "        self.stator_num = stator_num\n",
    "        \n",
    "        self.theta = 0\n",
    "        self.vel = 0\n",
    "        self.target_angle = 0\n",
    "        \n",
    "        charge_fn = lambda i: 1 if i%2 == 0 else -1\n",
    "        \n",
    "        self.rotor = [Magnet(i * 2 * np.pi / rotor_num, rotor_radius, charge_fn(i))\n",
    "                      for i in range(rotor_num)]\n",
    "        self.stator = [Magnet(i * 2 * np.pi / stator_num, stator_radius, charge_fn(i))\n",
    "                      for i in range(stator_num)]\n",
    "        \n",
    "    def step(self, stator_state, steps, render=False):\n",
    "        theta_init = self.theta\n",
    "        vel_init = self.vel\n",
    "        \n",
    "        thetas = [self.theta]\n",
    "        vels = [self.vel]\n",
    "        \n",
    "        for i in range(steps):\n",
    "            \n",
    "            for s, charge in zip(self.stator, stator_state):\n",
    "                s.charge = charge\n",
    "            \n",
    "            for r in self.rotor:\n",
    "                r.theta = self.theta\n",
    "                r.updateP()\n",
    "                for s in self.stator:\n",
    "                    force = r.force(s)\n",
    "                    self.vel += force\n",
    "            self.theta += self.vel\n",
    "            thetas += [self.theta]\n",
    "            vels += [self.vel]\n",
    "            self.vel *= self.decay\n",
    "            \n",
    "            if render: self.render()\n",
    "                    \n",
    "        dtheta = self.theta - theta_init\n",
    "        dvel = self.vel - vel_init\n",
    "        return (thetas, vels, dtheta, dvel)\n",
    "    \n",
    "    def render(self):\n",
    "        width, height = 400, 400\n",
    "        \n",
    "        img = np.zeros((height, width, 3), dtype=np.uint8)\n",
    "        \n",
    "        avg_radius = int((self.rotor_radius + self.stator_radius) / 2)\n",
    "        cv2.circle(img, (200, 200), avg_radius, (255,255,255), 1) #(BGR)\n",
    "        \n",
    "        # draw the angle of the motor\n",
    "        angle_pt = (int(200 + avg_radius * np.cos(self.theta)), \n",
    "                    int(200 + avg_radius * np.sin(self.theta)))\n",
    "        cv2.line(img, (200, 200), \n",
    "                      angle_pt, (255, 255, 255), 2)\n",
    "        \n",
    "        if self.target_angle:\n",
    "            target_pt = (int(200 + avg_radius * np.cos(self.target_angle)), \n",
    "                         int(200 + avg_radius * np.sin(self.target_angle)))\n",
    "            cv2.line(img, (200, 200), \n",
    "                      target_pt, (0, 255, 0), 2)\n",
    "        \n",
    "        for s in self.stator:\n",
    "            img = s.render(img)\n",
    "            \n",
    "        for r in self.rotor:\n",
    "            img = r.render(img)\n",
    "            \n",
    "        img = np.flip(img, axis=0)\n",
    "        cv2.imshow(\"BLDC\", img)\n",
    "        cv2.waitKey(1)\n",
    "        \n",
    "motor = Motor(stator_radius=120,\n",
    "              rotor_radius=60,\n",
    "              decay=0.95,\n",
    "              rotor_num=2,\n",
    "              stator_num=3\n",
    "             )"
   ]
  },
  {
   "cell_type": "code",
   "execution_count": 180,
   "metadata": {},
   "outputs": [
    {
     "data": {
      "image/png": "[encoded data removed]",
      "text/plain": [
       "<Figure size 432x288 with 1 Axes>"
      ]
     },
     "metadata": {},
     "output_type": "display_data"
    },
    {
     "name": "stdout",
     "output_type": "stream",
     "text": [
      "0.012258972772880431\n"
     ]
    }
   ],
   "source": [
    "motor.theta = 0.01\n",
    "motor.vel = 0\n",
    "motor.target_angle = np.pi /2\n",
    "\n",
    "thetas, vels, dtheta, dvel = motor.step([1, 1, 1], 100, True)\n",
    "fig = plt.plot(thetas)\n",
    "fig = plt.plot(vels)\n",
    "plt.show()\n",
    "\n",
    "print(dvel)"
   ]
  },
  {
   "cell_type": "markdown",
   "metadata": {},
   "source": [
    "# Explore possible phases for 3 stator magnet\n",
    "\n",
    "<img src=\"BLDC.png\">"
   ]
  },
  {
   "cell_type": "code",
   "execution_count": 215,
   "metadata": {
    "collapsed": true
   },
   "outputs": [],
   "source": [
    "states = [[1, 0, -1],\n",
    "          [0, 1, -1],\n",
    "          [-1, 1, 0],\n",
    "          [-1, 0, 1],\n",
    "          [0, -1, 1],\n",
    "          [1, -1, 0]]"
   ]
  },
  {
   "cell_type": "code",
   "execution_count": 216,
   "metadata": {
    "collapsed": true
   },
   "outputs": [],
   "source": [
    "# 30 degrees alignment\n",
    "_, _, _, _ = motor.step(states[0], 200, True)"
   ]
  },
  {
   "cell_type": "code",
   "execution_count": 217,
   "metadata": {
    "collapsed": true
   },
   "outputs": [],
   "source": [
    "# 90 degrees alignment\n",
    "_, _, _, _ = motor.step(states[1], 200, True)"
   ]
  },
  {
   "cell_type": "code",
   "execution_count": 218,
   "metadata": {
    "collapsed": true
   },
   "outputs": [],
   "source": [
    "# 150 degrees alignment\n",
    "_, _, _, _ = motor.step(states[2], 200, True)"
   ]
  },
  {
   "cell_type": "code",
   "execution_count": 219,
   "metadata": {
    "collapsed": true
   },
   "outputs": [],
   "source": [
    "# 210 degrees alignment\n",
    "_, _, _, _ = motor.step(states[3], 200, True)"
   ]
  },
  {
   "cell_type": "code",
   "execution_count": 220,
   "metadata": {
    "collapsed": true
   },
   "outputs": [],
   "source": [
    "# 270 degrees alignment\n",
    "_, _, _, _ = motor.step(states[4], 200, True)"
   ]
  },
  {
   "cell_type": "code",
   "execution_count": 221,
   "metadata": {
    "collapsed": true
   },
   "outputs": [],
   "source": [
    "# 330 degrees alignment\n",
    "_, _, _, _ = motor.step(states[5], 200, True)"
   ]
  },
  {
   "cell_type": "code",
   "execution_count": 222,
   "metadata": {
    "collapsed": true
   },
   "outputs": [],
   "source": [
    "for s in states:\n",
    "    motor.step(s, 200, True)"
   ]
  },
  {
   "cell_type": "code",
   "execution_count": 223,
   "metadata": {},
   "outputs": [],
   "source": [
    "for i in range(20):\n",
    "    motor.step(states[i%6], 50, True)"
   ]
  },
  {
   "cell_type": "code",
   "execution_count": 224,
   "metadata": {
    "collapsed": true
   },
   "outputs": [],
   "source": [
    "# Reverse the order you energize reverses the motor\n",
    "\n",
    "for i in reversed(range(20)):\n",
    "    motor.step(states[i%6], 50, True)"
   ]
  },
  {
   "cell_type": "code",
   "execution_count": 213,
   "metadata": {
    "collapsed": true
   },
   "outputs": [],
   "source": [
    "# Try to reach an angle by driving forward or backward\n",
    "motor.theta = 0\n",
    "motor.target_angle = 2 * np.pi / 3\n",
    "\n",
    "i = 0\n",
    "for _ in range(20):\n",
    "    if motor.theta < motor.target_angle:\n",
    "        i += 1\n",
    "    else:\n",
    "        i -= 1\n",
    "        \n",
    "    motor.step(states[i%6], 70, True)"
   ]
  },
  {
   "cell_type": "code",
   "execution_count": 348,
   "metadata": {},
   "outputs": [
    {
     "data": {
      "image/png": "[encoded data removed]",
      "text/plain": [
       "<Figure size 432x288 with 1 Axes>"
      ]
     },
     "metadata": {},
     "output_type": "display_data"
    }
   ],
   "source": [
    "def minAngle(a, b):\n",
    "    a %= (2 * np.pi)\n",
    "    b %= (2 * np.pi)\n",
    "    \n",
    "    d = abs(a - b)\n",
    "    return min((2 * np.pi) - d, d)\n",
    "\n",
    "motor.target = np.pi\n",
    "mangles = []\n",
    "vals = []\n",
    "targs = []\n",
    "for t in np.linspace(0, 2 * np.pi, 100)[:-1]:\n",
    "    motor.theta = t\n",
    "    mangles += [motor.theta % (2 * np.pi)]\n",
    "    targs += [motor.target]\n",
    "    vals += [minAngle(motor.theta, motor.target)]\n",
    "    \n",
    "fig = plt.plot(mangles)\n",
    "fig = plt.plot(vals)\n",
    "fig = plt.plot(targs)"
   ]
  },
  {
   "cell_type": "markdown",
   "metadata": {},
   "source": [
    "# Q Learning Training\n",
    "\n",
    "https://www.geeksforgeeks.org/q-learning-in-python/"
   ]
  },
  {
   "cell_type": "code",
   "execution_count": 367,
   "metadata": {},
   "outputs": [],
   "source": [
    "import itertools \n",
    "import matplotlib \n",
    "import matplotlib.style \n",
    "import numpy as np \n",
    "import pandas as pd \n",
    "import sys\n",
    "from collections import defaultdict \n",
    "import plotting\n",
    "\n",
    "matplotlib.style.use('ggplot')\n",
    "\n",
    "class MotorEnv(Environment):\n",
    "    def __init__(self):\n",
    "        super().__init__()\n",
    "        self.motor = Motor(stator_radius=120,\n",
    "                  rotor_radius=80,\n",
    "                  decay=0.995,\n",
    "                  rotor_num=2,\n",
    "                  stator_num=3\n",
    "                 )\n",
    "        \n",
    "        self.actions = len(states)\n",
    "        self.render = False\n",
    "        \n",
    "        self.episode_steps = 100\n",
    "        self.steps = 0\n",
    "\n",
    "    def states(self):\n",
    "        return dict(type='float', shape=(1,))\n",
    "    \n",
    "    def getState(self):\n",
    "        t = self.motor.theta\n",
    "        return (np.round(t % (2 * np.pi) / (2 * np.pi) * 5) / 5)\n",
    "\n",
    "    def reset(self):\n",
    "        self.steps = 0\n",
    "        self.motor.target_angle = np.pi\n",
    "        self.motor.theta = np.random.random() * 2 * np.pi - np.pi\n",
    "        self.motor.vel = 0 # np.random.randn() * .05\n",
    "        return self.getState()\n",
    "\n",
    "    def step(self, actions):\n",
    "        \n",
    "        motor_states = states[actions]\n",
    "        thetas, vels, dtheta, dvel = self.motor.step(motor_states, 1, self.render)\n",
    "        \n",
    "        self.steps += 1\n",
    "        terminal = True if self.steps >= self.episode_steps else False\n",
    "        reward = -minAngle(self.motor.theta, self.motor.target_angle)\n",
    "        #reward = -np.abs(self.motor.theta) # dvel * 10\n",
    "        \n",
    "        return self.getState(), reward, terminal\n",
    "\n",
    "def createEpsilonGreedyPolicy(Q, epsilon, num_actions): \n",
    "    \"\"\" \n",
    "    Creates an epsilon-greedy policy based \n",
    "    on a given Q-function and epsilon. \n",
    "    \n",
    "    Returns a function that takes the state \n",
    "    as an input and returns the probabilities \n",
    "    for each action in the form of a numpy array  \n",
    "    of length of the action space(set of possible actions). \n",
    "    \"\"\"\n",
    "    def policyFunction(state): \n",
    "   \n",
    "        Action_probabilities = np.ones(num_actions, \n",
    "                dtype = float) * epsilon / num_actions \n",
    "        best_action = np.argmax(Q[state]) \n",
    "        Action_probabilities[best_action] += (1.0 - epsilon) \n",
    "        return Action_probabilities \n",
    "    \n",
    "    return policyFunction\n",
    "\n",
    "def qLearning(env, Q, num_episodes, episode_steps, discount_factor = 0.9, \n",
    "                            alpha = 0.3, epsilon = 0.1): \n",
    "    \"\"\" \n",
    "    Q-Learning algorithm: Off-policy TD control. \n",
    "    Finds the optimal greedy policy while improving \n",
    "    following an epsilon-greedy policy\"\"\"\n",
    "    \n",
    "    env.render = False\n",
    "    env.episode_steps = episode_steps\n",
    "       \n",
    "    # Action value function \n",
    "    # A nested dictionary that maps \n",
    "    # state -> (action -> action-value). \n",
    "    \n",
    "    \n",
    "    # Keeps track of useful statistics \n",
    "    #stats = plotting.EpisodeStats( \n",
    "    #    episode_lengths = np.zeros(num_episodes), \n",
    "    #    episode_rewards = np.zeros(num_episodes))\n",
    "    rewards = []\n",
    "       \n",
    "    # Create an epsilon greedy policy function \n",
    "    # appropriately for environment action space \n",
    "    policy = createEpsilonGreedyPolicy(Q, epsilon, env.actions) \n",
    "       \n",
    "    # For every episode \n",
    "    for ith_episode in range(num_episodes): \n",
    "            \n",
    "        # Reset the environment and pick the first action \n",
    "        state = env.reset() \n",
    "        \n",
    "        avg_reward = 0\n",
    "        \n",
    "        for t in itertools.count():\n",
    "               \n",
    "            # get probabilities of all actions from current state \n",
    "            action_probabilities = policy(state) \n",
    "   \n",
    "            # choose action according to  \n",
    "            # the probability distribution \n",
    "            action = np.random.choice(np.arange( \n",
    "                      len(action_probabilities)), \n",
    "                       p = action_probabilities) \n",
    "   \n",
    "            # take action and get reward, transit to next state \n",
    "            next_state, reward, done = env.step(action) \n",
    "   \n",
    "            # Update statistics \n",
    "            #stats.episode_rewards[ith_episode] += reward \n",
    "            #stats.episode_lengths[ith_episode] = t\n",
    "            avg_reward += reward\n",
    "               \n",
    "            # TD Update \n",
    "            best_next_action = np.argmax(Q[next_state])     \n",
    "            td_target = reward + discount_factor * Q[next_state][best_next_action] \n",
    "            td_delta = td_target - Q[state][action] \n",
    "            Q[state][action] += alpha * td_delta \n",
    "   \n",
    "            # done is True if episode terminated    \n",
    "            if done: \n",
    "                break\n",
    "                   \n",
    "            state = next_state\n",
    "            \n",
    "        avg_reward /= 1 if t == 0 else t\n",
    "        rewards += [avg_reward]\n",
    "        \n",
    "        # print Q values\n",
    "        if ith_episode % 50 == 0:\n",
    "            clear_output(wait=True)\n",
    "            #print(\"episode: \", ith_episode)\n",
    "            #for state in Q:\n",
    "            #    fig = plt.plot(Q[state])\n",
    "                \n",
    "            plt.plot(rewards)\n",
    "            plt.show()\n",
    "       \n",
    "    return Q, rewards\n",
    "\n",
    "\n",
    "env = MotorEnv()\n",
    "Q = defaultdict(lambda: np.zeros(env.actions))"
   ]
  },
  {
   "cell_type": "code",
   "execution_count": 387,
   "metadata": {},
   "outputs": [
    {
     "data": {
      "image/png": "[encoded data removed]",
      "text/plain": [
       "<Figure size 432x288 with 1 Axes>"
      ]
     },
     "metadata": {},
     "output_type": "display_data"
    }
   ],
   "source": [
    "# Train\n",
    "Q, rewards = qLearning(env, Q, 300, 200)"
   ]
  },
  {
   "cell_type": "code",
   "execution_count": 403,
   "metadata": {},
   "outputs": [
    {
     "data": {
      "text/plain": [
       "[<matplotlib.lines.Line2D at 0x64ef91cf8>]"
      ]
     },
     "execution_count": 403,
     "metadata": {},
     "output_type": "execute_result"
    },
    {
     "data": {
      "image/png": "[encoded data removed]",
      "text/plain": [
       "<Figure size 432x288 with 1 Axes>"
      ]
     },
     "metadata": {},
     "output_type": "display_data"
    }
   ],
   "source": [
    "# Evaluate the best policy\n",
    "\n",
    "def evaluate(env, Q, num_episodes, episode_steps, epsilon = 0.0): \n",
    "    \n",
    "    env.render = True\n",
    "    env.episode_steps = episode_steps\n",
    "    \n",
    "    rewards = []\n",
    "    policy = createEpsilonGreedyPolicy(Q, epsilon, env.actions) \n",
    "       \n",
    "    for ith_episode in range(num_episodes): \n",
    "        \n",
    "        state = env.reset()\n",
    "        \n",
    "        for t in itertools.count():\n",
    "            action_probabilities = policy(state) \n",
    "            action = np.random.choice(np.arange( \n",
    "                      len(action_probabilities)), \n",
    "                       p = action_probabilities) \n",
    "   \n",
    "            next_state, reward, done = env.step(action) \n",
    "            rewards += [reward]\n",
    "             \n",
    "            if done: \n",
    "                break\n",
    "                   \n",
    "            state = next_state\n",
    "       \n",
    "    return rewards\n",
    "\n",
    "rewards = evaluate(env, Q, 1, 200, epsilon = 0.0)\n",
    "plt.plot(rewards)"
   ]
  },
  {
   "cell_type": "code",
   "execution_count": 272,
   "metadata": {},
   "outputs": [
    {
     "data": {
      "text/plain": [
       "[<matplotlib.lines.Line2D at 0x64bba68d0>]"
      ]
     },
     "execution_count": 272,
     "metadata": {},
     "output_type": "execute_result"
    },
    {
     "data": {
      "image/png": "[encoded data removed]",
      "text/plain": [
       "<Figure size 432x288 with 1 Axes>"
      ]
     },
     "metadata": {},
     "output_type": "display_data"
    }
   ],
   "source": [
    "ts = []\n",
    "for t in np.linspace(0, 2 * np.pi, 1000):\n",
    "    ts += [np.round(t % (2 * np.pi) / (2 * np.pi) * 5) / 5]\n",
    "    \n",
    "plt.plot(ts)"
   ]
  },
  {
   "cell_type": "markdown",
   "metadata": {},
   "source": [
    "# Evolution Strategies Training"
   ]
  },
  {
   "cell_type": "code",
   "execution_count": 228,
   "metadata": {
    "collapsed": true
   },
   "outputs": [],
   "source": [
    "def state(motor):\n",
    "    return motor.theta % (2 * np.pi)\n",
    "\n",
    "def stator_state(W, motor):\n",
    "    t = state(motor)\n",
    "    stators = motor.stator_num\n",
    "    stator_state = np.zeros((stators))\n",
    "    frac = 1 / stators\n",
    "    for i, r in enumerate(W):\n",
    "        stator_state[i] = frac * np.sin(t*r[0] + r[1])\n",
    "    return stator_state\n",
    "\n",
    "def plot_stator_state(W):\n",
    "    for stator in range(W.shape[0]):\n",
    "        pts = []\n",
    "        for t in np.linspace(0, 2 * np.pi, 50)[:-1]:\n",
    "            motor.theta = t\n",
    "            pts += [[t, stator_state(W, motor)[stator]]]\n",
    "\n",
    "        pts = np.array(pts)\n",
    "        fig = plt.plot(pts[:,0], pts[:,1])"
   ]
  },
  {
   "cell_type": "code",
   "execution_count": 229,
   "metadata": {},
   "outputs": [
    {
     "data": {
      "image/png": "[encoded data removed]",
      "text/plain": [
       "<Figure size 432x288 with 1 Axes>"
      ]
     },
     "metadata": {},
     "output_type": "display_data"
    }
   ],
   "source": [
    "motor = Motor(stator_radius=120,\n",
    "              rotor_radius=80,\n",
    "              decay=0.995,\n",
    "              rotor_num=2,\n",
    "              stator_num=3\n",
    "             )\n",
    "\n",
    "W = np.random.randn(motor.stator_num, 2) # stators x 2 params each\n",
    "\n",
    "plot_stator_state(W)"
   ]
  },
  {
   "cell_type": "code",
   "execution_count": 413,
   "metadata": {},
   "outputs": [
    {
     "name": "stdout",
     "output_type": "stream",
     "text": [
      "900\n"
     ]
    },
    {
     "data": {
      "image/png": "[encoded data removed]",
      "text/plain": [
       "<Figure size 432x288 with 1 Axes>"
      ]
     },
     "metadata": {},
     "output_type": "display_data"
    }
   ],
   "source": [
    "avg_dvels = []\n",
    "\n",
    "# train\n",
    "for i in range(1000):\n",
    "    if i % 100 == 0:\n",
    "        clear_output(wait=True)\n",
    "        print(i)\n",
    "        #plt.plot(avg_dvels)\n",
    "        plot_stator_state(W)\n",
    "        plt.show()\n",
    "    \n",
    "    theta_init = np.random.random() * 2 * np.pi\n",
    "    vel_init = np.random.randn() * .01\n",
    "    \n",
    "    motor.theta = theta_init\n",
    "    motor.vel = vel_init\n",
    "    _, _, _, dvel_init = motor.step(stator_state(W, motor), 1, False)\n",
    "    \n",
    "    avg_dvels += [dvel_init]\n",
    "    \n",
    "    W_update = np.zeros_like(W)\n",
    "    \n",
    "    for j in range(50):\n",
    "        Wd = np.random.randn(W.shape[0], W.shape[1])\n",
    "        bd = np.random.randn(b.shape[0])\n",
    "        motor.theta = theta_init\n",
    "        motor.vel = vel_init\n",
    "        _, _, dtheta, dvel = motor.step(stator_state(W+Wd,\n",
    "                                                     motor), 1, False)\n",
    "        \n",
    "        W_update += Wd * (dvel - dvel_init)\n",
    "    \n",
    "    W += 1 * W_update"
   ]
  },
  {
   "cell_type": "code",
   "execution_count": 416,
   "metadata": {
    "collapsed": true
   },
   "outputs": [],
   "source": [
    "# evaluate\n",
    "for k in range(1):\n",
    "    theta_init = np.random.random() * 2 * np.pi\n",
    "    vel_init = 0\n",
    "    motor.theta = theta_init\n",
    "    motor.vel = vel_init\n",
    "\n",
    "    for i in range(1000):\n",
    "        _, _, _, dvel_init = motor.step(stator_state(w, motor), 1, True)"
   ]
  },
  {
   "cell_type": "markdown",
   "metadata": {},
   "source": [
    "# Pick the best weights Training"
   ]
  },
  {
   "cell_type": "code",
   "execution_count": 468,
   "metadata": {
    "collapsed": true
   },
   "outputs": [],
   "source": [
    "best_dvel = 0\n",
    "best_W = np.random.randn(motor.stator_num, 2)\n",
    "dvels = []"
   ]
  },
  {
   "cell_type": "code",
   "execution_count": 471,
   "metadata": {
    "collapsed": true
   },
   "outputs": [],
   "source": [
    "for i in range(1000):\n",
    "    W = 2 * np.random.randn(best_W.shape[0], best_W.shape[1])\n",
    "    \n",
    "    avg_dvel = 0\n",
    "    \n",
    "    for j in range(10):\n",
    "        motor.theta = np.random.random() * 2 * np.pi\n",
    "        motor.vel = 0 #np.random.randn() * .1\n",
    "        _, _, _, dvel = motor.step(stator_state(W, motor), 10, False)\n",
    "        avg_dvel += dvel\n",
    "    \n",
    "    if avg_dvel > best_dvel:\n",
    "        print(\"new best: \", avg_dvel)\n",
    "        best_dvel = avg_dvel\n",
    "        best_W = W\n",
    "        dvels += [avg_dvel]\n",
    "        \n",
    "        clear_output(wait=True)\n",
    "        #print(i)\n",
    "        plot_stator_state(W)\n",
    "        plt.show()"
   ]
  },
  {
   "cell_type": "code",
   "execution_count": 470,
   "metadata": {},
   "outputs": [
    {
     "ename": "KeyboardInterrupt",
     "evalue": "",
     "output_type": "error",
     "traceback": [
      "\u001b[0;31m---------------------------------------------------------------------------\u001b[0m",
      "\u001b[0;31mKeyboardInterrupt\u001b[0m                         Traceback (most recent call last)",
      "\u001b[0;32m<ipython-input-470-a08715683566>\u001b[0m in \u001b[0;36m<module>\u001b[0;34m()\u001b[0m\n\u001b[1;32m      7\u001b[0m \u001b[0;34m\u001b[0m\u001b[0m\n\u001b[1;32m      8\u001b[0m     \u001b[0;32mfor\u001b[0m \u001b[0mi\u001b[0m \u001b[0;32min\u001b[0m \u001b[0mrange\u001b[0m\u001b[0;34m(\u001b[0m\u001b[0;36m10000\u001b[0m\u001b[0;34m)\u001b[0m\u001b[0;34m:\u001b[0m\u001b[0;34m\u001b[0m\u001b[0m\n\u001b[0;32m----> 9\u001b[0;31m         \u001b[0m_\u001b[0m\u001b[0;34m,\u001b[0m \u001b[0m_\u001b[0m\u001b[0;34m,\u001b[0m \u001b[0m_\u001b[0m\u001b[0;34m,\u001b[0m \u001b[0mdvel_init\u001b[0m \u001b[0;34m=\u001b[0m \u001b[0mmotor\u001b[0m\u001b[0;34m.\u001b[0m\u001b[0mstep\u001b[0m\u001b[0;34m(\u001b[0m\u001b[0mstator_state\u001b[0m\u001b[0;34m(\u001b[0m\u001b[0mbest_W\u001b[0m\u001b[0;34m,\u001b[0m \u001b[0mmotor\u001b[0m\u001b[0;34m)\u001b[0m\u001b[0;34m,\u001b[0m \u001b[0;36m1\u001b[0m\u001b[0;34m,\u001b[0m \u001b[0;32mTrue\u001b[0m\u001b[0;34m)\u001b[0m\u001b[0;34m\u001b[0m\u001b[0m\n\u001b[0m",
      "\u001b[0;32m<ipython-input-195-ff9cbd38ddf2>\u001b[0m in \u001b[0;36mstep\u001b[0;34m(self, stator_state, steps, render)\u001b[0m\n\u001b[1;32m     83\u001b[0m             \u001b[0mself\u001b[0m\u001b[0;34m.\u001b[0m\u001b[0mvel\u001b[0m \u001b[0;34m*=\u001b[0m \u001b[0mself\u001b[0m\u001b[0;34m.\u001b[0m\u001b[0mdecay\u001b[0m\u001b[0;34m\u001b[0m\u001b[0m\n\u001b[1;32m     84\u001b[0m \u001b[0;34m\u001b[0m\u001b[0m\n\u001b[0;32m---> 85\u001b[0;31m             \u001b[0;32mif\u001b[0m \u001b[0mrender\u001b[0m\u001b[0;34m:\u001b[0m \u001b[0mself\u001b[0m\u001b[0;34m.\u001b[0m\u001b[0mrender\u001b[0m\u001b[0;34m(\u001b[0m\u001b[0;34m)\u001b[0m\u001b[0;34m\u001b[0m\u001b[0m\n\u001b[0m\u001b[1;32m     86\u001b[0m \u001b[0;34m\u001b[0m\u001b[0m\n\u001b[1;32m     87\u001b[0m         \u001b[0mdtheta\u001b[0m \u001b[0;34m=\u001b[0m \u001b[0mself\u001b[0m\u001b[0;34m.\u001b[0m\u001b[0mtheta\u001b[0m \u001b[0;34m-\u001b[0m \u001b[0mtheta_init\u001b[0m\u001b[0;34m\u001b[0m\u001b[0m\n",
      "\u001b[0;32m<ipython-input-195-ff9cbd38ddf2>\u001b[0m in \u001b[0;36mrender\u001b[0;34m(self)\u001b[0m\n\u001b[1;32m    104\u001b[0m \u001b[0;34m\u001b[0m\u001b[0m\n\u001b[1;32m    105\u001b[0m         \u001b[0mcv2\u001b[0m\u001b[0;34m.\u001b[0m\u001b[0mimshow\u001b[0m\u001b[0;34m(\u001b[0m\u001b[0;34m\"BLDC\"\u001b[0m\u001b[0;34m,\u001b[0m \u001b[0mimg\u001b[0m\u001b[0;34m)\u001b[0m\u001b[0;34m\u001b[0m\u001b[0m\n\u001b[0;32m--> 106\u001b[0;31m         \u001b[0mcv2\u001b[0m\u001b[0;34m.\u001b[0m\u001b[0mwaitKey\u001b[0m\u001b[0;34m(\u001b[0m\u001b[0;36m1\u001b[0m\u001b[0;34m)\u001b[0m\u001b[0;34m\u001b[0m\u001b[0m\n\u001b[0m\u001b[1;32m    107\u001b[0m \u001b[0;34m\u001b[0m\u001b[0m\n\u001b[1;32m    108\u001b[0m motor = Motor(stator_radius=120,\n",
      "\u001b[0;31mKeyboardInterrupt\u001b[0m: "
     ]
    }
   ],
   "source": [
    "# evaluate\n",
    "for k in range(1):\n",
    "    theta_init = np.random.random() * 2 * np.pi\n",
    "    vel_init = 0\n",
    "    motor.theta = theta_init\n",
    "    motor.vel = vel_init\n",
    "\n",
    "    for i in range(10000):\n",
    "        _, _, _, dvel_init = motor.step(stator_state(best_W, motor), 1, True)"
   ]
  },
  {
   "cell_type": "markdown",
   "metadata": {},
   "source": [
    "# Training\n",
    "\n",
    "source: https://tensorforce.readthedocs.io/en/latest/basics/getting-started.html"
   ]
  },
  {
   "cell_type": "code",
   "execution_count": 169,
   "metadata": {
    "collapsed": true
   },
   "outputs": [],
   "source": [
    "from tensorforce.environments import Environment\n",
    "from tensorforce.agents import Agent\n",
    "from tensorforce.execution import Runner\n",
    "from IPython.display import clear_output"
   ]
  },
  {
   "cell_type": "code",
   "execution_count": 176,
   "metadata": {},
   "outputs": [
    {
     "name": "stderr",
     "output_type": "stream",
     "text": [
      "\n",
      "\n",
      "Episodes:   0%|          | 0/100 [00:00, reward=0.00, ts/ep=0, sec/ep=0.00, ms/ts=0.0, agent=0.0%]\u001b[A\u001b[A\n",
      "\n",
      "Episodes:   1%|          | 1/100 [00:01, reward=-0.27, ts/ep=5, sec/ep=1.98, ms/ts=396.5, agent=98.9%]\u001b[A\u001b[A\n",
      "\n",
      "Episodes:   4%|▍         | 4/100 [00:02, reward=-0.73, ts/ep=5, sec/ep=0.04, ms/ts=7.1, agent=43.3%]  \u001b[A\u001b[A\n",
      "\n",
      "Episodes:   7%|▋         | 7/100 [00:02, reward=-0.27, ts/ep=5, sec/ep=0.04, ms/ts=7.5, agent=43.0%]\u001b[A\u001b[A\n",
      "\n",
      "Episodes:  10%|█         | 10/100 [00:02, reward=-0.26, ts/ep=5, sec/ep=0.04, ms/ts=7.2, agent=43.6%]\u001b[A\u001b[A\n",
      "\n",
      "Episodes:  13%|█▎        | 13/100 [00:02, reward=0.54, ts/ep=5, sec/ep=0.03, ms/ts=7.0, agent=42.6%] \u001b[A\u001b[A\n",
      "\n",
      "Episodes:  16%|█▌        | 16/100 [00:02, reward=0.10, ts/ep=5, sec/ep=0.04, ms/ts=7.2, agent=44.2%]\u001b[A\u001b[A\n",
      "\n",
      "Episodes:  19%|█▉        | 19/100 [00:02, reward=-0.13, ts/ep=5, sec/ep=0.04, ms/ts=7.1, agent=43.1%]\u001b[A\u001b[A\n",
      "\n",
      "Episodes:  22%|██▏       | 22/100 [00:02, reward=-0.05, ts/ep=5, sec/ep=0.03, ms/ts=6.9, agent=42.0%]\u001b[A\u001b[A\n",
      "\n",
      "Episodes:  25%|██▌       | 25/100 [00:02, reward=-0.67, ts/ep=5, sec/ep=0.03, ms/ts=6.9, agent=41.2%]\u001b[A\u001b[A\n",
      "\n",
      "Episodes:  28%|██▊       | 28/100 [00:03, reward=0.34, ts/ep=5, sec/ep=0.03, ms/ts=6.8, agent=41.4%] \u001b[A\u001b[A\n",
      "\n",
      "Episodes:  31%|███       | 31/100 [00:03, reward=0.35, ts/ep=5, sec/ep=0.03, ms/ts=6.8, agent=40.9%]\u001b[A\u001b[A\n",
      "\n",
      "Episodes:  34%|███▍      | 34/100 [00:03, reward=-0.07, ts/ep=5, sec/ep=0.03, ms/ts=6.9, agent=41.2%]\u001b[A\u001b[A\n",
      "\n",
      "Episodes:  37%|███▋      | 37/100 [00:03, reward=0.33, ts/ep=5, sec/ep=0.03, ms/ts=6.9, agent=41.7%] \u001b[A\u001b[A\n",
      "\n",
      "Episodes:  40%|████      | 40/100 [00:03, reward=-0.31, ts/ep=5, sec/ep=0.03, ms/ts=6.9, agent=41.3%]\u001b[A\u001b[A\n",
      "\n",
      "Episodes:  43%|████▎     | 43/100 [00:03, reward=0.21, ts/ep=5, sec/ep=0.03, ms/ts=6.9, agent=41.7%] \u001b[A\u001b[A\n",
      "\n",
      "Episodes:  46%|████▌     | 46/100 [00:03, reward=-0.32, ts/ep=5, sec/ep=0.03, ms/ts=7.0, agent=42.6%]\u001b[A\u001b[A\n",
      "\n",
      "Episodes:  49%|████▉     | 49/100 [00:03, reward=-0.07, ts/ep=5, sec/ep=0.03, ms/ts=7.0, agent=41.7%]\u001b[A\u001b[A\n",
      "\n",
      "Episodes:  52%|█████▏    | 52/100 [00:03, reward=-0.26, ts/ep=5, sec/ep=0.03, ms/ts=6.9, agent=40.4%]\u001b[A\u001b[A\n",
      "\n",
      "Episodes:  55%|█████▌    | 55/100 [00:04, reward=-0.10, ts/ep=5, sec/ep=0.03, ms/ts=6.9, agent=40.3%]\u001b[A\u001b[A\n",
      "\n",
      "Episodes:  58%|█████▊    | 58/100 [00:04, reward=-0.34, ts/ep=5, sec/ep=0.03, ms/ts=6.8, agent=40.4%]\u001b[A\u001b[A\n",
      "\n",
      "Episodes:  61%|██████    | 61/100 [00:04, reward=0.22, ts/ep=5, sec/ep=0.03, ms/ts=6.8, agent=41.1%] \u001b[A\u001b[A\n",
      "\n",
      "Episodes:  64%|██████▍   | 64/100 [00:04, reward=-0.02, ts/ep=5, sec/ep=0.03, ms/ts=6.8, agent=41.1%]\u001b[A\u001b[A\n",
      "\n",
      "Episodes:  67%|██████▋   | 67/100 [00:04, reward=-0.47, ts/ep=5, sec/ep=0.03, ms/ts=6.9, agent=40.3%]\u001b[A\u001b[A\n",
      "\n",
      "Episodes:  70%|███████   | 70/100 [00:04, reward=0.78, ts/ep=5, sec/ep=0.03, ms/ts=6.9, agent=40.1%] \u001b[A\u001b[A\n",
      "\n",
      "Episodes:  73%|███████▎  | 73/100 [00:04, reward=0.37, ts/ep=5, sec/ep=0.03, ms/ts=6.8, agent=40.2%]\u001b[A\u001b[A\n",
      "\n",
      "Episodes:  76%|███████▌  | 76/100 [00:04, reward=-0.76, ts/ep=5, sec/ep=0.03, ms/ts=6.9, agent=39.8%]\u001b[A\u001b[A\n",
      "\n",
      "Episodes:  79%|███████▉  | 79/100 [00:05, reward=0.18, ts/ep=5, sec/ep=0.04, ms/ts=7.0, agent=39.3%] \u001b[A\u001b[A\n",
      "\n",
      "Episodes:  82%|████████▏ | 82/100 [00:05, reward=-0.02, ts/ep=5, sec/ep=0.03, ms/ts=6.8, agent=40.8%]\u001b[A\u001b[A\n",
      "\n",
      "Episodes:  85%|████████▌ | 85/100 [00:05, reward=0.21, ts/ep=5, sec/ep=0.03, ms/ts=6.8, agent=40.2%] \u001b[A\u001b[A\n",
      "\n",
      "Episodes:  88%|████████▊ | 88/100 [00:05, reward=0.25, ts/ep=5, sec/ep=0.03, ms/ts=6.8, agent=40.6%]\u001b[A\u001b[A\n",
      "\n",
      "Episodes:  91%|█████████ | 91/100 [00:05, reward=-0.25, ts/ep=5, sec/ep=0.03, ms/ts=6.9, agent=39.6%]\u001b[A\u001b[A\n",
      "\n",
      "Episodes:  94%|█████████▍| 94/100 [00:05, reward=0.42, ts/ep=5, sec/ep=0.03, ms/ts=6.8, agent=41.2%] \u001b[A\u001b[A\n",
      "\n",
      "Episodes:  97%|█████████▋| 97/100 [00:05, reward=-0.66, ts/ep=5, sec/ep=0.04, ms/ts=7.0, agent=42.8%]\u001b[A\u001b[A\n",
      "\n",
      "Episodes: 100%|██████████| 100/100 [00:05, reward=-0.32, ts/ep=5, sec/ep=0.03, ms/ts=6.8, agent=40.5%]\u001b[A\u001b[A"
     ]
    }
   ],
   "source": [
    "class MotorEnv(Environment):\n",
    "    def __init__(self):\n",
    "        super().__init__()\n",
    "        self.motor = Motor(stator_radius=120,\n",
    "                  rotor_radius=80,\n",
    "                  decay=0.995,\n",
    "                  rotor_num=2,\n",
    "                  stator_num=3\n",
    "                 )\n",
    "        self.num_actions = 6\n",
    "        self.render = False\n",
    "        self.episode_steps = 100\n",
    "\n",
    "    def states(self):\n",
    "        return dict(type='float', shape=(1,))\n",
    "\n",
    "    def actions(self):\n",
    "        return dict(type='int', num_values=6)\n",
    "    \n",
    "    # Optional\n",
    "    def close(self):\n",
    "        super().close()\n",
    "\n",
    "    def reset(self):\n",
    "        self.motor.theta = np.random.random() * 2 * np.pi - np.pi\n",
    "        self.motor.vel = np.random.randn() * .05\n",
    "        self.motor.steps = 0\n",
    "        return np.array([self.motor.theta % 2*np.pi])\n",
    "\n",
    "    def execute(self, actions):\n",
    "        stator_num = self.motor.stator_num\n",
    "        \n",
    "        motor_states = states[actions]\n",
    "        thetas, vels, dtheta, dvel = self.motor.step(motor_states, 10, self.render)\n",
    "        next_state = np.array([self.motor.theta % 2*np.pi])\n",
    "        \n",
    "        self.motor.steps += 1\n",
    "        terminal = True if self.motor.steps >= self.episode_steps else False\n",
    "        reward = dvel * 10 #-np.abs(self.motor.theta)\n",
    "        return next_state, terminal, reward\n",
    "    \n",
    "env = MotorEnv()\n",
    "\n",
    "#agent = Agent.create(\n",
    "#    agent='ppo', environment=env, batch_size=10, learning_rate=1e-3, max_episode_timesteps=1\n",
    "#)\n",
    "\n",
    "agent = Agent.create(\n",
    "    agent='tensorforce', environment=env, update=64,\n",
    "    objective='policy_gradient', reward_estimation=dict(horizon=20),\n",
    "    max_episode_timesteps=100, exploration=.2\n",
    ")\n",
    "\n",
    "runner = Runner(\n",
    "    agent=agent,\n",
    "    environment=env\n",
    ")\n",
    "\n",
    "clear_output(wait=True)\n",
    "env.episode_steps = 5\n",
    "runner.run(num_episodes=100)"
   ]
  },
  {
   "cell_type": "code",
   "execution_count": 177,
   "metadata": {},
   "outputs": [
    {
     "name": "stderr",
     "output_type": "stream",
     "text": [
      "Episodes: 100%|██████████| 100/100 [00:16, reward=-0.32, ts/ep=5, sec/ep=0.03, ms/ts=6.8, agent=40.5%]\n",
      "\n",
      "\n",
      "Episodes:   0%|          | 0/10 [00:00, reward=0.00, ts/ep=0, sec/ep=0.00, ms/ts=0.0, agent=0.0%]\u001b[A\u001b[A\n",
      "\n",
      "Episodes:  10%|█         | 1/10 [00:01, reward=0.13, ts/ep=10, sec/ep=1.08, ms/ts=107.8, agent=39.2%]\u001b[A\u001b[A\n",
      "\n",
      "Episodes:  20%|██        | 2/10 [00:01, reward=-0.56, ts/ep=10, sec/ep=0.73, ms/ts=72.9, agent=2.1%] \u001b[A\u001b[A\n",
      "\n",
      "Episodes:  30%|███       | 3/10 [00:02, reward=-0.12, ts/ep=10, sec/ep=0.74, ms/ts=74.2, agent=2.5%]\u001b[A\u001b[A\n",
      "\n",
      "Episodes:  40%|████      | 4/10 [00:03, reward=-0.08, ts/ep=10, sec/ep=0.73, ms/ts=73.4, agent=2.4%]\u001b[A\u001b[A\n",
      "\n",
      "Episodes:  50%|█████     | 5/10 [00:04, reward=0.02, ts/ep=10, sec/ep=0.73, ms/ts=73.3, agent=2.4%] \u001b[A\u001b[A\n",
      "\n",
      "Episodes:  60%|██████    | 6/10 [00:04, reward=1.24, ts/ep=10, sec/ep=0.69, ms/ts=69.5, agent=2.6%]\u001b[A\u001b[A\n",
      "\n",
      "Episodes:  70%|███████   | 7/10 [00:05, reward=-0.46, ts/ep=10, sec/ep=0.71, ms/ts=71.1, agent=2.4%]\u001b[A\u001b[A\n",
      "\n",
      "Episodes:  80%|████████  | 8/10 [00:06, reward=0.24, ts/ep=10, sec/ep=0.72, ms/ts=71.7, agent=2.7%] \u001b[A\u001b[A\n",
      "\n",
      "Episodes:  90%|█████████ | 9/10 [00:06, reward=-0.50, ts/ep=10, sec/ep=0.72, ms/ts=72.0, agent=2.4%]\u001b[A\u001b[A\n",
      "\n",
      "Episodes: 100%|██████████| 10/10 [00:07, reward=-0.20, ts/ep=10, sec/ep=0.75, ms/ts=75.4, agent=2.1%]\u001b[A\u001b[A"
     ]
    }
   ],
   "source": [
    "env.render = True\n",
    "env.episode_steps = 10\n",
    "runner.run(num_episodes=10, evaluation=True)"
   ]
  },
  {
   "cell_type": "code",
   "execution_count": 10,
   "metadata": {},
   "outputs": [
    {
     "name": "stderr",
     "output_type": "stream",
     "text": [
      "Episodes: 100%|██████████| 30/30 [00:29, reward=1.61, ts/ep=10, sec/ep=0.32, ms/ts=32.5, agent=4.7%]\n"
     ]
    }
   ],
   "source": [
    "runner.close()"
   ]
  },
  {
   "cell_type": "code",
   "execution_count": 175,
   "metadata": {},
   "outputs": [
    {
     "data": {
      "image/png": "[encoded data removed]",
      "text/plain": [
       "<Figure size 432x288 with 1 Axes>"
      ]
     },
     "metadata": {},
     "output_type": "display_data"
    }
   ],
   "source": [
    "t = np.linspace(-2*np.pi, 4 * np.pi, 200)\n",
    "t = t % (2*np.pi)\n",
    "t2 = [np.digitize(h, np.linspace(0, 2*np.pi, 10)) for h in t]\n",
    "t2 /= np.max(t2)\n",
    "t2 *= 2*np.pi\n",
    "fig = plt.plot(t)\n",
    "fig = plt.plot(t2)"
   ]
  },
  {
   "cell_type": "code",
   "execution_count": null,
   "metadata": {
    "collapsed": true
   },
   "outputs": [],
   "source": []
  }
 ],
 "metadata": {
  "kernelspec": {
   "display_name": "Python 3",
   "language": "python",
   "name": "python3"
  },
  "language_info": {
   "codemirror_mode": {
    "name": "ipython",
    "version": 3
   },
   "file_extension": ".py",
   "mimetype": "text/x-python",
   "name": "python",
   "nbconvert_exporter": "python",
   "pygments_lexer": "ipython3",
   "version": "3.6.1"
  }
 },
 "nbformat": 4,
 "nbformat_minor": 2
}
